{
 "cells": [
  {
   "cell_type": "markdown",
   "metadata": {},
   "source": [
    "# Assignment 3 - Building a Custom Visualization\n",
    "\n",
    "---\n",
    "\n",
    "<p style = 'text-align: justify;'> In this assignment you must choose one of the options presented below and submit a visual as well as your source code for peer grading. The details of how you solve the assignment are up to you, although your assignment must use matplotlib so that your peers can evaluate your work. The options differ in challenge level, but there are no grades associated with the challenge level you chose. However, your peers will be asked to ensure you at least met a minimum quality for a given technique in order to pass. Implement the technique fully (or exceed it!) and you should be able to earn full grades for the assignment.</p>\n",
    "\n",
    "\n",
    "<p style = 'text-align: justify;'> &nbsp;&nbsp;&nbsp;&nbsp;&nbsp;&nbsp;Ferreira, N., Fisher, D., & Konig, A. C. (2014, April). [Sample-oriented task-driven visualizations: allowing users to make better, more confident decisions.](https://www.microsoft.com/en-us/research/wp-content/uploads/2016/02/Ferreira_Fisher_Sample_Oriented_Tasks.pdf) \n",
    "&nbsp;&nbsp;&nbsp;&nbsp;&nbsp;&nbsp;In Proceedings of the SIGCHI Conference on Human Factors in Computing Systems (pp. 571-580). ACM. ([video](https://www.youtube.com/watch?v=BI7GAs-va-Q)) </p>\n",
    "\n",
    "\n",
    "<p style = 'text-align: justify;'> In this [paper](https://www.microsoft.com/en-us/research/wp-content/uploads/2016/02/Ferreira_Fisher_Sample_Oriented_Tasks.pdf) the authors describe the challenges users face when trying to make judgements about probabilistic data generated through samples. As an example, they look at a bar chart of four years of data (replicated below in Figure 1). Each year has a y-axis value, which is derived from a sample of a larger dataset. For instance, the first value might be the number votes in a given district or riding for 1992, with the average being around 33,000. On top of this is plotted the 95% confidence interval for the mean (see the boxplot lectures for more information, and the yerr parameter of barcharts).</p>\n",
    "\n",
    "<br>\n",
    "<img src=\"readonly/Assignment3Fig1.png\" alt=\"Figure 1\" style=\"width: 400px;\"/>\n",
    "<h4 style=\"text-align: center;\" markdown=\"1\">  &nbsp;&nbsp;&nbsp;&nbsp;&nbsp;&nbsp;&nbsp;&nbsp;Figure 1 from (Ferreira et al, 2014).</h4>\n",
    "\n",
    "<br>\n",
    "\n",
    "<p style = 'text-align: justify;'> A challenge that users face is that, for a given y-axis value (e.g. 42,000), it is difficult to know which x-axis values are most likely to be representative, because the confidence levels overlap and their distributions are different (the lengths of the confidence interval bars are unequal). One of the solutions the authors propose for this problem (Figure 2c) is to allow users to indicate the y-axis value of interest (e.g. 42,000) and then draw a horizontal line and color bars based on this value. So bars might be colored red if they are definitely above this value (given the confidence interval), blue if they are definitely below this value, or white if they contain this value.</p>\n",
    "\n",
    "\n",
    "<br>\n",
    "<img src=\"readonly/Assignment3Fig2c.png\" alt=\"Figure 1\" style=\"width: 400px;\"/>\n",
    "<h4 style=\"text-align: center;\" markdown=\"1\">  Figure 2c from (Ferreira et al. 2014). Note that the colorbar legend at the bottom as well as the arrows are not required in the assignment descriptions below.</h4>\n",
    "\n",
    "<br>\n",
    "<br>\n",
    "\n",
    "**Easiest option:** Implement the bar coloring as described above - a color scale with only three colors, (e.g. blue, white, and red). Assume the user provides the y axis value of interest as a parameter or variable.\n",
    "\n",
    "\n",
    "**Harder option:** Implement the bar coloring as described in the paper, where the color of the bar is actually based on the amount of data covered (e.g. a gradient ranging from dark blue for the distribution being certainly below this y-axis, to white if the value is certainly contained, to dark red if the value is certainly not contained as the distribution is above the axis).\n",
    "\n",
    "**Even Harder option:** Add interactivity to the above, which allows the user to click on the y axis to set the value of interest. The bar colors should change with respect to what value the user has selected.\n",
    "\n",
    "**Hardest option:** Allow the user to interactively set a range of y values they are interested in, and recolor based on this (e.g. a y-axis band, see the paper for more details).\n",
    "\n",
    "---\n",
    "\n",
    "*Note: The data given for this assignment is not the same as the data used in the article and as a result the visualizations may look a little different.*"
   ]
  },
  {
   "cell_type": "code",
   "execution_count": 1,
   "metadata": {
    "collapsed": true
   },
   "outputs": [],
   "source": [
    "# Use the following data for this assignment:\n",
    "\n",
    "%matplotlib inline\n",
    "import pandas as pd\n",
    "import numpy as np\n",
    "import matplotlib.pyplot as plt\n",
    "import matplotlib.cm as cm\n",
    "import matplotlib.colors as col"
   ]
  },
  {
   "cell_type": "code",
   "execution_count": 2,
   "metadata": {
    "collapsed": false
   },
   "outputs": [
    {
     "name": "stdout",
     "output_type": "stream",
     "text": [
      "               1992           1993           1994           1995\n",
      "2198   72595.199672  -30587.388637   28699.831574  104059.521427\n",
      "2473  536621.664171   61898.300180  178221.941501   91061.350208\n",
      "588  -184646.439170   66741.035596   70397.777192  -28942.633076\n",
      "3497  -23843.438522   23457.409587  162119.161607   -4541.801979\n",
      "3488   45352.665978   69706.040212  100577.166228   71462.086852\n",
      "2749  -14083.461283   51028.176503  -41009.771088   99835.418283\n",
      "293   146215.627726  179721.253566  116918.611444  140739.029745\n",
      "1742 -248447.083531    1913.226602   68290.981117   93970.058079\n",
      "324  -154097.884677    4675.899336   55080.327335  150692.612300\n",
      "3227   83892.678863 -120906.405383   59204.117324  -98401.014625\n",
      "===========================================================================\n",
      "                1992           1993           1994           1995\n",
      "count    3650.000000    3650.000000    3650.000000    3650.000000\n",
      "mean    33312.107476   41861.859541   39493.304941   47743.550969\n",
      "std    200630.901553   98398.356203  140369.925240   69781.185469\n",
      "min   -717071.175466 -321586.023683 -450827.613097 -189865.963265\n",
      "25%   -102740.398364  -26628.302213  -57436.397393    1774.555612\n",
      "50%     29674.931050   43001.976658   41396.781369   49404.322978\n",
      "75%    167441.838695  108296.577923  137261.713785   94164.333867\n",
      "max    817505.608159  395586.505068  490091.665037  320826.888044\n"
     ]
    }
   ],
   "source": [
    "np.random.seed(12345)\n",
    "\n",
    "df = pd.DataFrame([np.random.normal(loc=32000,scale=200000,size=3650), \n",
    "                   np.random.normal(loc=43000,scale=100000,size=3650), \n",
    "                   np.random.normal(loc=43500,scale=140000,size=3650), \n",
    "                   np.random.normal(loc=48000,scale=70000,size=3650)], \n",
    "                  index=[1992,1993,1994,1995])\n",
    "\n",
    "df = df.T\n",
    "df.columns = ['1992', '1993', '1994', '1995']\n",
    "print(df.sample(10))\n",
    "print(\"=\"*75)\n",
    "print(df.describe())"
   ]
  },
  {
   "cell_type": "markdown",
   "metadata": {},
   "source": [
    "<p style='text-align: justify;'> I shall attempt to go with **harder option** comprising of: a bar coloring as described in the [paper](https://www.microsoft.com/en-us/research/wp-content/uploads/2016/02/Ferreira_Fisher_Sample_Oriented_Tasks.pdf), where the color of the bar is actually based on the amount of data covered (e.g. a gradient ranging from dark blue for the distribution being certainly below this y-axis, to white if the value is certainly contained, to dark red if the value is certainly not contained as the distribution is above the axis).</p>"
   ]
  },
  {
   "cell_type": "code",
   "execution_count": 4,
   "metadata": {
    "collapsed": false
   },
   "outputs": [
    {
     "data": {
      "image/png": "[encoded data removed]",
      "text/plain": [
       "<matplotlib.figure.Figure at 0x7f93799c9160>"
      ]
     },
     "metadata": {},
     "output_type": "display_data"
    }
   ],
   "source": [
    "data_x = np.arange(len(df.columns))                   # this will be our x-axis variable\n",
    "data_hight = df.mean()                                # this will be our y-axis variable\n",
    "data_color = [1000.,500.,1000.,900.]                  # 5 shades of 'blue'!\n",
    "data_color = [x / max(data_color) for x in data_color]\n",
    "means =  np.array(df.mean()) # max(data_color)\n",
    "\n",
    "fig, ax = plt.subplots(figsize=(15, 4))               # instantiating figure\n",
    "\n",
    "my_cmap = plt.cm.get_cmap('GnBu')  # defining color-map\n",
    "colors = my_cmap(data_color)       # cmap.to_rgba converts the list of values to a list of colors\n",
    "rects = ax.bar(data_x, data_hight, color=colors, yerr=df.std()/50, capsize=5) # bar plot object\n",
    "sm = cm.ScalarMappable(cmap=my_cmap, norm=plt.Normalize(means.min(),means.max()))  # \n",
    "sm.set_array([])\n",
    "\n",
    "# \n",
    "cbar = plt.colorbar(sm)\n",
    "cbar.set_label('Color', rotation=270,labelpad=25)\n",
    "\n",
    "\n",
    "plt.xticks(data_x, df.columns)\n",
    "plt.ylabel(\"Avg. Count\")\n",
    "plt.xlabel('Years')\n",
    "plt.axhline(y=42000, alpha=0.8, color='grey')\n",
    "plt.title('Avg. voter counts for years 1992 - 1995')\n",
    "plt.show()"
   ]
  },
  {
   "cell_type": "code",
   "execution_count": null,
   "metadata": {
    "collapsed": true
   },
   "outputs": [],
   "source": []
  }
 ],
 "metadata": {
  "kernelspec": {
   "display_name": "Python 3",
   "language": "python",
   "name": "python3"
  },
  "language_info": {
   "codemirror_mode": {
    "name": "ipython",
    "version": 3
   },
   "file_extension": ".py",
   "mimetype": "text/x-python",
   "name": "python",
   "nbconvert_exporter": "python",
   "pygments_lexer": "ipython3",
   "version": "3.5.2"
  }
 },
 "nbformat": 4,
 "nbformat_minor": 2
}
